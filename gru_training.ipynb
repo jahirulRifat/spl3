{
  "nbformat": 4,
  "nbformat_minor": 0,
  "metadata": {
    "kernelspec": {
      "display_name": "Python 3",
      "language": "python",
      "name": "python3"
    },
    "language_info": {
      "codemirror_mode": {
        "name": "ipython",
        "version": 3
      },
      "file_extension": ".py",
      "mimetype": "text/x-python",
      "name": "python",
      "nbconvert_exporter": "python",
      "pygments_lexer": "ipython3",
      "version": "3.5.3"
    },
    "colab": {
      "name": "gru_training.ipynb",
      "provenance": [],
      "include_colab_link": true
    },
    "accelerator": "GPU"
  },
  "cells": [
    {
      "cell_type": "markdown",
      "metadata": {
        "id": "view-in-github",
        "colab_type": "text"
      },
      "source": [
        "<a href=\"https://colab.research.google.com/github/jahirulRifat/spl3/blob/master/gru_training.ipynb\" target=\"_parent\"><img src=\"https://colab.research.google.com/assets/colab-badge.svg\" alt=\"Open In Colab\"/></a>"
      ]
    },
    {
      "cell_type": "code",
      "metadata": {
        "colab": {
          "base_uri": "https://localhost:8080/"
        },
        "id": "IUi8nMJ0wCYG",
        "outputId": "d2e7cc30-e486-4efd-dfd2-a60dccf25acf"
      },
      "source": [
        "import tensorflow as tf\n",
        "import numpy as np\n",
        "from tensorflow.keras.models import Model\n",
        "from tensorflow.keras.layers import Input, Embedding, Dense, GRU, Masking\n",
        "from tensorflow.keras.preprocessing.text import tokenizer_from_json\n",
        "import json\n",
        "import time\n",
        "from google.colab import drive\n",
        "drive.mount('/content/drive')"
      ],
      "execution_count": 1,
      "outputs": [
        {
          "output_type": "stream",
          "text": [
            "Mounted at /content/drive\n"
          ],
          "name": "stdout"
        }
      ]
    },
    {
      "cell_type": "code",
      "metadata": {
        "id": "TbvnmSdjwCYN"
      },
      "source": [
        "# import preprocessed data\n",
        "\n",
        "with open('/content/drive/MyDrive/Colab Notebooks/chatbot/dataset/questions.json', 'r') as f:\n",
        "    json_data = json.load(f)\n",
        "    question_corpus = tokenizer_from_json(json_data)\n",
        "    f.close()\n",
        "\n",
        "with open('/content/drive/MyDrive/Colab Notebooks/chatbot/dataset/answers.json', 'r') as f:\n",
        "    json_data = json.load(f)\n",
        "    answer_corpus = tokenizer_from_json(json_data)\n",
        "    f.close()\n",
        "\n",
        "npzfile = np.load('/content/drive/MyDrive/Colab Notebooks/chatbot/dataset/data.npz') "
      ],
      "execution_count": 2,
      "outputs": []
    },
    {
      "cell_type": "code",
      "metadata": {
        "id": "3x6K43sDwCYO"
      },
      "source": [
        "# define encoder\n",
        "\n",
        "def create_encoder(inputdim, embeddingsize, inputlen, n_units):\n",
        "\n",
        "    # encoder\n",
        "    encoder_input = Input((inputlen,))\n",
        "    encoder_embed = Embedding(inputdim+1, embeddingsize)(encoder_input)\n",
        "    # we use embedding layer to vectorize the word. the inputdim indicates the input dimension\n",
        "    # specifically, the inputdim is the length of vocabulary\n",
        "    # inputdim+1 at here is because our word label start from 1\n",
        "    encoder_mask = Masking()(encoder_embed)\n",
        "    # add mask layer because we should ignore the input of those padding 0\n",
        "    encoder = GRU(n_units, return_state = True)\n",
        "    # n_units indicates the number of units \n",
        "    # the state is the vector which encoder maps input to\n",
        "    # discard the output of encoder, only state vectors are we need\n",
        "    _, encoder_state = encoder(encoder_mask)\n",
        "    \n",
        "    encoder=Model(encoder_input, encoder_state)\n",
        "    \n",
        "    return encoder"
      ],
      "execution_count": 3,
      "outputs": []
    },
    {
      "cell_type": "code",
      "metadata": {
        "id": "3DZ6I18-wCYP"
      },
      "source": [
        "# define decoder. notice that this model is only used in training\n",
        "\n",
        "def create_decoder(inputdim, embeddingsize,inputlen, n_units):\n",
        "    # input of answers\n",
        "    decoder_input = Input((inputlen,))\n",
        "    # input of encoder state vectors   \n",
        "    initial_state = Input((n_units,))\n",
        "\n",
        "    # vectorize input answers\n",
        "    decoder_embed = Embedding(inputdim+1, embeddingsize)(decoder_input)\n",
        "    decoder_mask = Masking()(decoder_embed)\n",
        "    decoder = GRU(n_units, return_sequences = True, return_state = True)\n",
        "    # the state we dont need in training model\n",
        "    decoder_output,_ = decoder(decoder_embed,initial_state = initial_state)\n",
        "\n",
        "    decoder_dense = Dense(inputdim, activation = 'softmax')\n",
        "    decoder_output_ = decoder_dense(decoder_output)\n",
        "    \n",
        "    decoder=Model([decoder_input,initial_state],decoder_output_)\n",
        "    \n",
        "    return decoder"
      ],
      "execution_count": 4,
      "outputs": []
    },
    {
      "cell_type": "code",
      "metadata": {
        "id": "_T4iVhfZwCYQ"
      },
      "source": [
        "# define hyperparameters\n",
        "\n",
        "BatchSize = 32 # we choose a small size because of the oom issue\n",
        "N_Unit = 256\n",
        "EmbeddingSize = 128\n",
        "VocabSize = 8000 \n",
        "# theoretically, vocabulary size should be len(question_corpus.word_index)+1. \n",
        "# however, seems like the 'num_words' didnt filter the tokenizer. so we assign the number manually\n",
        "QuestionLen = npzfile['arr_0'].shape[1]\n",
        "AnswerLen = npzfile['arr_1'].shape[1]"
      ],
      "execution_count": 5,
      "outputs": []
    },
    {
      "cell_type": "code",
      "metadata": {
        "id": "vdh4zok6wCYQ"
      },
      "source": [
        "encoder=create_encoder(VocabSize,EmbeddingSize,QuestionLen,N_Unit)"
      ],
      "execution_count": 6,
      "outputs": []
    },
    {
      "cell_type": "code",
      "metadata": {
        "colab": {
          "base_uri": "https://localhost:8080/"
        },
        "id": "1DBmyGyOwCYR",
        "outputId": "937d18e8-a9a9-4a59-c416-dc4b872e87d5"
      },
      "source": [
        "encoder.summary()"
      ],
      "execution_count": 7,
      "outputs": [
        {
          "output_type": "stream",
          "text": [
            "Model: \"model\"\n",
            "_________________________________________________________________\n",
            "Layer (type)                 Output Shape              Param #   \n",
            "=================================================================\n",
            "input_1 (InputLayer)         [(None, 21)]              0         \n",
            "_________________________________________________________________\n",
            "embedding (Embedding)        (None, 21, 128)           1024128   \n",
            "_________________________________________________________________\n",
            "masking (Masking)            (None, 21, 128)           0         \n",
            "_________________________________________________________________\n",
            "gru (GRU)                    [(None, 256), (None, 256) 296448    \n",
            "=================================================================\n",
            "Total params: 1,320,576\n",
            "Trainable params: 1,320,576\n",
            "Non-trainable params: 0\n",
            "_________________________________________________________________\n"
          ],
          "name": "stdout"
        }
      ]
    },
    {
      "cell_type": "code",
      "metadata": {
        "id": "T9GfXfPOwCYT"
      },
      "source": [
        "decoder=create_decoder(VocabSize,EmbeddingSize,AnswerLen,N_Unit)"
      ],
      "execution_count": 8,
      "outputs": []
    },
    {
      "cell_type": "code",
      "metadata": {
        "colab": {
          "base_uri": "https://localhost:8080/"
        },
        "id": "yf2WgV1uwCYT",
        "outputId": "5ee5cbc5-aa64-40b6-f07f-80f4b67a1313"
      },
      "source": [
        "decoder.summary()"
      ],
      "execution_count": 9,
      "outputs": [
        {
          "output_type": "stream",
          "text": [
            "Model: \"model_1\"\n",
            "__________________________________________________________________________________________________\n",
            "Layer (type)                    Output Shape         Param #     Connected to                     \n",
            "==================================================================================================\n",
            "input_2 (InputLayer)            [(None, 22)]         0                                            \n",
            "__________________________________________________________________________________________________\n",
            "embedding_1 (Embedding)         (None, 22, 128)      1024128     input_2[0][0]                    \n",
            "__________________________________________________________________________________________________\n",
            "input_3 (InputLayer)            [(None, 256)]        0                                            \n",
            "__________________________________________________________________________________________________\n",
            "gru_1 (GRU)                     [(None, 22, 256), (N 296448      embedding_1[0][0]                \n",
            "                                                                 input_3[0][0]                    \n",
            "__________________________________________________________________________________________________\n",
            "dense (Dense)                   (None, 22, 8000)     2056000     gru_1[0][0]                      \n",
            "==================================================================================================\n",
            "Total params: 3,376,576\n",
            "Trainable params: 3,376,576\n",
            "Non-trainable params: 0\n",
            "__________________________________________________________________________________________________\n"
          ],
          "name": "stdout"
        }
      ]
    },
    {
      "cell_type": "code",
      "metadata": {
        "id": "J_4aHgXlwCYU"
      },
      "source": [
        "# define the optimizer and loss function\n",
        "optimizer = tf.keras.optimizers.Adam(1e-3)\n",
        "def loss_function(real, pred): \n",
        "    loss = tf.keras.losses.categorical_crossentropy(real,pred)\n",
        "    return tf.reduce_mean(loss)"
      ],
      "execution_count": 10,
      "outputs": []
    },
    {
      "cell_type": "code",
      "metadata": {
        "id": "nP-NJtGnwCYV"
      },
      "source": [
        "# define the training step\n",
        "\n",
        "@tf.function\n",
        "def train_step(enc_inp,dec_inp,targ):\n",
        "    loss=0\n",
        "\n",
        "    with tf.GradientTape() as tape:\n",
        "        encoder_state=encoder(enc_inp)\n",
        "        initial_state=encoder_state\n",
        "        prediction=decoder([dec_inp,initial_state])\n",
        "        loss=loss_function(targ,prediction)\n",
        "\n",
        "    variables = encoder.trainable_variables + decoder.trainable_variables\n",
        "    gradients = tape.gradient(loss, variables)\n",
        "    optimizer.apply_gradients(zip(gradients, variables))\n",
        "    \n",
        "    return loss"
      ],
      "execution_count": 11,
      "outputs": []
    },
    {
      "cell_type": "code",
      "metadata": {
        "id": "RHww4pvhwCYW"
      },
      "source": [
        "# define the validation loss\n",
        "\n",
        "def validation_loss(enc_inp,dec_inp,targ):\n",
        "    loss=0\n",
        "    encoder_state=encoder(enc_inp)\n",
        "    initial_state=encoder_state\n",
        "    prediction=decoder([dec_inp,initial_state])\n",
        "    loss=loss_function(targ,prediction)\n",
        "    \n",
        "    return loss"
      ],
      "execution_count": 12,
      "outputs": []
    },
    {
      "cell_type": "code",
      "metadata": {
        "id": "56mmDQS9wCYW"
      },
      "source": [
        "# define the parameter to split data\n",
        "train_valid_split = int(len(npzfile['arr_0'])*0.9)"
      ],
      "execution_count": 13,
      "outputs": []
    },
    {
      "cell_type": "code",
      "metadata": {
        "colab": {
          "base_uri": "https://localhost:8080/"
        },
        "id": "EpXkv3QIwCYW",
        "outputId": "c123f146-48e1-4bd3-8cf7-12b78e0c50e5"
      },
      "source": [
        "print(train_valid_split)"
      ],
      "execution_count": 14,
      "outputs": [
        {
          "output_type": "stream",
          "text": [
            "132964\n"
          ],
          "name": "stdout"
        }
      ]
    },
    {
      "cell_type": "code",
      "metadata": {
        "id": "RJ1Ozz7qwCYX"
      },
      "source": [
        "# get the training data\n",
        "inputq=npzfile['arr_0'][:train_valid_split]\n",
        "inputa=npzfile['arr_1'][:train_valid_split] \n",
        "targa=np.zeros_like(inputa) # create target data to do teacher forcing training\n",
        "targa[:,0:-1]=inputa[:,1:]  # the target is same as the input answers but 1 timestep shifted to the left"
      ],
      "execution_count": 15,
      "outputs": []
    },
    {
      "cell_type": "code",
      "metadata": {
        "id": "kqhLPMtMwCYX"
      },
      "source": [
        "# get the validation data\n",
        "validq=npzfile['arr_0'][train_valid_split:]\n",
        "valida=npzfile['arr_1'][train_valid_split:]\n",
        "validt=np.zeros_like(valida)\n",
        "validt[:,0:-1]=valida[:,1:]"
      ],
      "execution_count": 16,
      "outputs": []
    },
    {
      "cell_type": "code",
      "metadata": {
        "id": "T4AsWqEAwCYY"
      },
      "source": [
        "# use onehot encoding to vectorize the target data\n",
        "def onehotencoding(matrix,dim):\n",
        "    onehot=np.zeros((matrix.shape[0],matrix.shape[1],dim))\n",
        "    for i,sequence in enumerate(matrix):\n",
        "        for j,index in enumerate(sequence):\n",
        "            if index>0:\n",
        "                onehot[i][j][index-1]=1 # the index start from 1 so we minus 1\n",
        "    return onehot"
      ],
      "execution_count": 17,
      "outputs": []
    },
    {
      "cell_type": "code",
      "metadata": {
        "id": "ReyX9R7zwCYY"
      },
      "source": [
        "# create tensorflow dataset pipeline for faster processing\n",
        "# training set\n",
        "BufferSize = len(inputq)\n",
        "dataset_train = tf.data.Dataset.from_tensor_slices((inputq,inputa,targa)).shuffle(BufferSize)\n",
        "dataset_train = dataset_train.batch(BatchSize, drop_remainder=True)\n",
        "# validation set\n",
        "BufferSize1 = len(validq)\n",
        "dataset_valid = tf.data.Dataset.from_tensor_slices((validq,valida,validt)).shuffle(BufferSize1)\n",
        "dataset_valid = dataset_valid.batch(BatchSize, drop_remainder=True)"
      ],
      "execution_count": 18,
      "outputs": []
    },
    {
      "cell_type": "code",
      "metadata": {
        "colab": {
          "base_uri": "https://localhost:8080/"
        },
        "id": "s1LutKEEwCYY",
        "outputId": "97273828-b025-4804-f1ae-f89729d9975b"
      },
      "source": [
        "# train the model\n",
        "\n",
        "Epochs = 20\n",
        "trainstep_epoch = len(inputq)//BatchSize\n",
        "validstep_epoch = len(validq)//BatchSize\n",
        "overalltime=0\n",
        "\n",
        "for epoch in range(Epochs):\n",
        "    start=time.time()\n",
        "    total_loss=0\n",
        "    valid_loss=0\n",
        "    \n",
        "    for (batch, (inputq,inputa,targa)) in enumerate(dataset_train.take(trainstep_epoch)):\n",
        "        targa_onehot=onehotencoding(targa,VocabSize)\n",
        "        batch_loss = train_step(inputq,inputa,targa_onehot)\n",
        "        total_loss += batch_loss\n",
        "    \n",
        "    for (batch, (validq,valida,validt)) in enumerate(dataset_valid.take(validstep_epoch)):\n",
        "        validt_onehot=onehotencoding(validt,VocabSize)\n",
        "        valid_batch_loss = validation_loss(validq,valida,validt_onehot)\n",
        "        valid_loss+=valid_batch_loss\n",
        "    print('Epoch {} Loss {:.3f} Valid_Loss {:.3f}'.format(epoch+1,total_loss/trainstep_epoch,valid_loss/validstep_epoch))\n",
        "    \n",
        "    stop=time.time()\n",
        "    timetaken=stop-start\n",
        "    print('Time taken for 1 epoch {} sec\\n'.format(timetaken))\n",
        "    \n",
        "    overalltime+=timetaken\n",
        "    \n",
        "print('Overall time taken {} min\\n'.format(overalltime/60))"
      ],
      "execution_count": 19,
      "outputs": [
        {
          "output_type": "stream",
          "text": [
            "Epoch 1 Loss 1.894 Valid_Loss 1.785\n",
            "Time taken for 1 epoch 591.2352752685547 sec\n",
            "\n",
            "Epoch 2 Loss 1.672 Valid_Loss 1.640\n",
            "Time taken for 1 epoch 565.2383005619049 sec\n",
            "\n",
            "Epoch 3 Loss 1.567 Valid_Loss 1.612\n",
            "Time taken for 1 epoch 561.4942758083344 sec\n",
            "\n",
            "Epoch 4 Loss 1.509 Valid_Loss 1.613\n",
            "Time taken for 1 epoch 559.6403362751007 sec\n",
            "\n",
            "Epoch 5 Loss 1.462 Valid_Loss 1.623\n",
            "Time taken for 1 epoch 560.9627494812012 sec\n",
            "\n",
            "Epoch 6 Loss 1.420 Valid_Loss 1.646\n",
            "Time taken for 1 epoch 561.0874810218811 sec\n",
            "\n",
            "Epoch 7 Loss 1.381 Valid_Loss 1.673\n",
            "Time taken for 1 epoch 558.427976846695 sec\n",
            "\n",
            "Epoch 8 Loss 1.345 Valid_Loss 1.706\n",
            "Time taken for 1 epoch 562.7872128486633 sec\n",
            "\n",
            "Epoch 9 Loss 1.312 Valid_Loss 1.745\n",
            "Time taken for 1 epoch 558.5704684257507 sec\n",
            "\n",
            "Epoch 10 Loss 1.281 Valid_Loss 1.781\n",
            "Time taken for 1 epoch 556.254264831543 sec\n",
            "\n",
            "Epoch 11 Loss 1.252 Valid_Loss 1.821\n",
            "Time taken for 1 epoch 555.0458059310913 sec\n",
            "\n",
            "Epoch 12 Loss 1.226 Valid_Loss 1.855\n",
            "Time taken for 1 epoch 555.9962034225464 sec\n",
            "\n",
            "Epoch 13 Loss 1.201 Valid_Loss 1.908\n",
            "Time taken for 1 epoch 558.1871860027313 sec\n",
            "\n",
            "Epoch 14 Loss 1.178 Valid_Loss 1.949\n",
            "Time taken for 1 epoch 556.5945467948914 sec\n",
            "\n",
            "Epoch 15 Loss 1.157 Valid_Loss 1.995\n",
            "Time taken for 1 epoch 560.1003465652466 sec\n",
            "\n",
            "Epoch 16 Loss 1.137 Valid_Loss 2.037\n",
            "Time taken for 1 epoch 558.1265771389008 sec\n",
            "\n",
            "Epoch 17 Loss 1.119 Valid_Loss 2.083\n",
            "Time taken for 1 epoch 557.4239966869354 sec\n",
            "\n",
            "Epoch 18 Loss 1.103 Valid_Loss 2.121\n",
            "Time taken for 1 epoch 554.8173673152924 sec\n",
            "\n",
            "Epoch 19 Loss 1.088 Valid_Loss 2.170\n",
            "Time taken for 1 epoch 555.470160484314 sec\n",
            "\n",
            "Epoch 20 Loss 1.075 Valid_Loss 2.208\n",
            "Time taken for 1 epoch 554.6805877685547 sec\n",
            "\n",
            "Overall time taken 186.70235199133555 min\n",
            "\n"
          ],
          "name": "stdout"
        }
      ]
    },
    {
      "cell_type": "code",
      "metadata": {
        "id": "VwGbptV0wCYZ"
      },
      "source": [
        "# save parameters after training\n",
        "encoder.save_weights('/content/drive/MyDrive/Colab Notebooks/chatbot/dataset/gru_enc_test.h5')\n",
        "decoder.save_weights('/content/drive/MyDrive/Colab Notebooks/chatbot/dataset/gru_dec_test.h5')"
      ],
      "execution_count": 20,
      "outputs": []
    },
    {
      "cell_type": "code",
      "metadata": {
        "id": "Mz20JuFcwCYZ"
      },
      "source": [
        ""
      ],
      "execution_count": 20,
      "outputs": []
    }
  ]
}